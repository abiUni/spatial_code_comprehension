{
 "cells": [
  {
   "cell_type": "code",
   "execution_count": 1,
   "id": "a1a01147",
   "metadata": {},
   "outputs": [
    {
     "data": {
      "text/html": [
       "<style>.container { width:80% !important; }</style>"
      ],
      "text/plain": [
       "<IPython.core.display.HTML object>"
      ]
     },
     "metadata": {},
     "output_type": "display_data"
    }
   ],
   "source": [
    "import re\n",
    "import json\n",
    "import pandas as pd\n",
    "import csv\n",
    "import os\n",
    "import numpy as np\n",
    "from collections import Counter\n",
    "import matplotlib.pyplot as plt\n",
    "import seaborn as sns\n",
    "import scipy.stats as stats\n",
    "from scipy.stats import norm \n",
    "from pyvis.network import Network\n",
    "import networkx as nx\n",
    "import plotly.express as px\n",
    "from datetime import datetime,timedelta\n",
    "\n",
    "high_colors = ['#648FFF',  '#DC267F', '#FE6100', '#FFB000', '#785EF0']\n",
    "low_colors = ['#31a1ae', '#507d87', '#d73e41', '#ff5c61', '#ffa6b0']\n",
    "sns.set_palette(sns.color_palette(high_colors))\n",
    "from IPython.display import display, HTML\n",
    "display(HTML(\"<style>.container { width:80% !important; }</style>\"))"
   ]
  },
  {
   "cell_type": "markdown",
   "id": "394759c5",
   "metadata": {},
   "source": [
    "## Process task durations"
   ]
  },
  {
   "cell_type": "code",
   "execution_count": 2,
   "id": "1cad676e",
   "metadata": {},
   "outputs": [],
   "source": [
    "df_interruptions = pd.read_csv('../data/interruptions.csv')\n",
    "df_times = pd.read_csv('../data/times.csv')"
   ]
  },
  {
   "cell_type": "code",
   "execution_count": 3,
   "id": "a9da220a",
   "metadata": {},
   "outputs": [],
   "source": [
    "df_interruptions = df_interruptions.groupby(['user', 'task', 'phase'])['interrupt_duration'].sum().reset_index()\n",
    "df_interruptions = df_interruptions[df_interruptions.interrupt_duration > 0]"
   ]
  },
  {
   "cell_type": "code",
   "execution_count": 4,
   "id": "3f28dc0c",
   "metadata": {},
   "outputs": [],
   "source": [
    "df_times = pd.merge(df_times, df_interruptions[['user', 'task', 'phase', 'interrupt_duration']], left_on=['user', 'task', 'phase'], right_on=['user', 'task', 'phase'], how='left')"
   ]
  },
  {
   "cell_type": "code",
   "execution_count": 5,
   "id": "05f66339",
   "metadata": {},
   "outputs": [],
   "source": [
    "df_times['net_duration'] = df_times.apply(lambda row: row['duration'] - row['interrupt_duration'] if row['interrupt_duration'] == row['interrupt_duration'] else row['duration'] , axis=1)"
   ]
  },
  {
   "cell_type": "code",
   "execution_count": 6,
   "id": "e997757c",
   "metadata": {},
   "outputs": [],
   "source": [
    "df_times.group = df_times.group.apply(lambda l: 0 if l =='control' else 1) "
   ]
  },
  {
   "cell_type": "code",
   "execution_count": 7,
   "id": "0591a4d2",
   "metadata": {},
   "outputs": [],
   "source": [
    "df_time_cumul = df_times[['user', 'group', 'net_duration']].groupby(['user', 'group']).sum().reset_index()"
   ]
  },
  {
   "cell_type": "markdown",
   "id": "a54db894",
   "metadata": {},
   "source": [
    "## Calculate Times per Task"
   ]
  },
  {
   "cell_type": "code",
   "execution_count": 8,
   "id": "1d78c5e1",
   "metadata": {},
   "outputs": [],
   "source": [
    "df_times_task = df_times[['user', 'group', 'task', 'net_duration']].groupby(['user', 'group', 'task']).sum().reset_index()"
   ]
  },
  {
   "cell_type": "markdown",
   "id": "8ccdbca2",
   "metadata": {},
   "source": [
    "## Calculate the task scores"
   ]
  },
  {
   "cell_type": "code",
   "execution_count": 9,
   "id": "7eb1a525",
   "metadata": {},
   "outputs": [],
   "source": [
    "with open('../data/solution.json', 'r') as f:\n",
    "    dict_solution = json.load(f)"
   ]
  },
  {
   "cell_type": "code",
   "execution_count": 10,
   "id": "d3d05043",
   "metadata": {},
   "outputs": [],
   "source": [
    "with open('../data/user_interactions.json', 'r') as f:\n",
    "    dict_score = json.load(f)"
   ]
  },
  {
   "cell_type": "code",
   "execution_count": 11,
   "id": "46a48937",
   "metadata": {},
   "outputs": [],
   "source": [
    "def get_tuple(solution):\n",
    "    if 'line' in solution:\n",
    "        return (solution['line'], solution['line'])\n",
    "    if 'start' in solution:\n",
    "        return (solution['start'], solution['end'])"
   ]
  },
  {
   "cell_type": "code",
   "execution_count": 12,
   "id": "dfd205cb",
   "metadata": {},
   "outputs": [],
   "source": [
    "def range_overlap(range_1, range_2):\n",
    "    lst_1 = list(range(range_1[0], range_1[1]+1))\n",
    "    lst_2 = list(range(range_2[0], range_2[1]+1))\n",
    "    return bool(set(lst_1) & set(lst_2))"
   ]
  },
  {
   "cell_type": "code",
   "execution_count": 13,
   "id": "9247859d",
   "metadata": {},
   "outputs": [],
   "source": [
    "lst_scores = []\n",
    "for k in dict_score.keys():\n",
    "    for task in dict_score[k]['tasks']:\n",
    "        if task['number'] > 0:\n",
    "            score_selection = 0\n",
    "            score_files = 0\n",
    "            wrong_sel = 0\n",
    "            wrong_file = 0\n",
    "            \n",
    "\n",
    "            solution = [d for d in dict_solution if d['task'] == task['number'] and d['phase'] == task['phase']][0]\n",
    "            max_score_file = len(solution['trace'].keys())\n",
    "            max_score_sel = sum([len(solution['trace'][k]) for k in solution['trace'].keys()])\n",
    "\n",
    "            nr_dupes = 0\n",
    "            for key, value in solution['trace'].items():\n",
    "                relevant_sel = [(s['startRow']+1, s['endRow']+1) for s in task['selections'] if s['file'] == key]\n",
    "                relevant_sol = [get_tuple(d) for d in value]\n",
    "                \n",
    "                dupes = len([(x, y) for x in relevant_sol for y in relevant_sel if range_overlap(x,y)])\n",
    "                nr_dupes = nr_dupes + dupes \n",
    "                ranges_match = dict([(x, y) for x in relevant_sol for y in relevant_sel if range_overlap(x,y)])\n",
    "                \n",
    "                update_sel_score = len(ranges_match)\n",
    "                score_selection = score_selection + update_sel_score\n",
    "                wrong_sel = wrong_sel + len(relevant_sel) - dupes\n",
    "                \n",
    "            wrong_file = wrong_file + len(set([s['file'] for s in task['selections'] if s['file'] not in solution['trace'].keys()]))\n",
    "            wrong_sel = wrong_sel + len([s for s in task['selections'] if s['file'] not in solution['trace'].keys()])\n",
    "            score_files = score_files + len(set([s['file'] for s in task['selections'] if s['file'] in solution['trace'].keys()]))\n",
    "            lst_scores.append([k,dict_score[k]['group'],  task['number'], task['phase'], score_files, wrong_file, score_selection, wrong_sel, max_score_file, max_score_sel])"
   ]
  },
  {
   "cell_type": "code",
   "execution_count": 14,
   "id": "7693abde",
   "metadata": {},
   "outputs": [],
   "source": [
    "df_scores = pd.DataFrame(lst_scores, columns=['user', 'group', 'task', 'phase',\\\n",
    "                                              'tp_files', 'fp_file','tp_selection',\\\n",
    "                                              'fp_selection', 'total_file', 'total_selection'])"
   ]
  },
  {
   "cell_type": "code",
   "execution_count": 15,
   "id": "f1a98037",
   "metadata": {},
   "outputs": [],
   "source": [
    "# Calculate File Accuracy\n",
    "df_scores['accuracy_file'] = 2 * df_scores['tp_files'] / (df_scores['tp_files'] +\\\n",
    "                                                          df_scores['fp_file'] + df_scores['total_file'])"
   ]
  },
  {
   "cell_type": "code",
   "execution_count": 16,
   "id": "67902d6c",
   "metadata": {},
   "outputs": [],
   "source": [
    "# Calculate Annotation Accuracy\n",
    "df_scores['accuracy_selection'] = 2 * df_scores['tp_selection'] / (df_scores['tp_selection'] +\\\n",
    "                                                                   df_scores['fp_selection'] +\\\n",
    "                                                                   df_scores['total_selection'])"
   ]
  },
  {
   "cell_type": "code",
   "execution_count": 17,
   "id": "574acc1b",
   "metadata": {},
   "outputs": [],
   "source": [
    "df_task_score = df_scores[['user','group','task', 'tp_files', 'fp_file', 'tp_selection', 'fp_selection', 'total_file', 'total_selection']].groupby(['user', 'group', 'task']).sum().reset_index()"
   ]
  },
  {
   "cell_type": "code",
   "execution_count": 18,
   "id": "f7ead361",
   "metadata": {},
   "outputs": [],
   "source": [
    "# Calculate task-based scores (file and annotation accuracy)\n",
    "df_task_score['accuracy_selection'] = round(2 * df_task_score['tp_selection'] / (df_task_score['tp_selection'] + df_task_score['fp_selection'] + df_task_score['total_selection']),2)\n",
    "df_task_score['accuracy_file'] = round(2 * df_task_score['tp_files'] / (df_task_score['tp_files'] + df_task_score['fp_file'] + df_task_score['total_file']),2)\n",
    "df_task_score['group'] = df_task_score['group'].apply(lambda l: 0 if l == 'control' else 1)"
   ]
  },
  {
   "cell_type": "code",
   "execution_count": 19,
   "id": "a002ab78",
   "metadata": {},
   "outputs": [],
   "source": [
    "df_task_time_score = pd.merge(df_task_score[['group','user', 'task',\\\n",
    "                                             'accuracy_selection', 'accuracy_file']],\\\n",
    "                              df_times_task, left_on=['user', 'group', 'task'], right_on=['user', 'group', 'task'], how='left')"
   ]
  },
  {
   "cell_type": "code",
   "execution_count": 20,
   "id": "0233c3a1",
   "metadata": {},
   "outputs": [],
   "source": [
    "df_task_time_score['group'] = df_task_time_score['group'].apply(lambda l: 'control' if l==0 else 'canvas')"
   ]
  },
  {
   "cell_type": "code",
   "execution_count": 21,
   "id": "d85e2d6c",
   "metadata": {},
   "outputs": [
    {
     "data": {
      "image/png": "[encoded data removed]",
      "text/plain": [
       "<Figure size 360x216 with 1 Axes>"
      ]
     },
     "metadata": {
      "needs_background": "light"
     },
     "output_type": "display_data"
    }
   ],
   "source": [
    "plt.rcParams[\"figure.figsize\"] = (5,3)\n",
    "sns.set_palette(sns.color_palette(high_colors))\n",
    "ax = sns.boxplot(hue='group',x='task',y='accuracy_file',\\\n",
    "                 data = df_task_time_score, showfliers=False,  width=0.3, linewidth=1)\n",
    "for i,box in enumerate(ax.artists):\n",
    "    box.set_edgecolor('black')\n",
    "    for j in range(5*i,5*(i+1)):\n",
    "         ax.lines[j].set_color('black')\n",
    "sns.despine(offset=10, trim=True)\n",
    "ax.set(xlabel =\"Task\", ylabel = \"File accuracy\")\n",
    "\n",
    "fig = ax.get_figure()\n",
    "fig.savefig(\"../figures/boxplot_file_accuracy.pdf\", bbox_inches='tight') "
   ]
  },
  {
   "cell_type": "code",
   "execution_count": 22,
   "id": "9e927629",
   "metadata": {},
   "outputs": [],
   "source": [
    "df_task_time_score[['user', 'group','task', 'accuracy_selection']][df_task_time_score['task'] == 1].to_csv('../data/annotation_accuracy_task1.csv')\n",
    "df_task_time_score[['user', 'group','task', 'accuracy_selection']][df_task_time_score['task'] == 2].to_csv('../data/annotation_accuracy_task2.csv')\n",
    "df_task_time_score[['user', 'group','task', 'accuracy_selection']][df_task_time_score['task'] == 3].to_csv('../data/annotation_accuracy_task3.csv')"
   ]
  },
  {
   "cell_type": "code",
   "execution_count": 23,
   "id": "8d329575",
   "metadata": {},
   "outputs": [
    {
     "data": {
      "image/png": "[encoded data removed]",
      "text/plain": [
       "<Figure size 360x216 with 1 Axes>"
      ]
     },
     "metadata": {
      "needs_background": "light"
     },
     "output_type": "display_data"
    }
   ],
   "source": [
    "plt.rcParams[\"figure.figsize\"] = (5,3)\n",
    "sns.set_palette(sns.color_palette(high_colors))\n",
    "ax = sns.boxplot(hue='group',x='task',y='accuracy_selection',\\\n",
    "                 data = df_task_time_score, showfliers=False,  width=0.3, linewidth=1)\n",
    "for i,box in enumerate(ax.artists):\n",
    "    box.set_edgecolor('black')\n",
    "    for j in range(5*i,5*(i+1)):\n",
    "         ax.lines[j].set_color('black')\n",
    "sns.despine(offset=10, trim=True)\n",
    "ax.set(xlabel =\"Task\", ylabel = \"Annotation accuracy\")\n",
    "\n",
    "fig = ax.get_figure()\n",
    "fig.savefig(\"../figures/boxplot_annotation_accuracy.pdf\", bbox_inches='tight') "
   ]
  },
  {
   "cell_type": "code",
   "execution_count": 24,
   "id": "b89f4acb",
   "metadata": {},
   "outputs": [
    {
     "data": {
      "image/png": "[encoded data removed]",
      "text/plain": [
       "<Figure size 360x216 with 1 Axes>"
      ]
     },
     "metadata": {
      "needs_background": "light"
     },
     "output_type": "display_data"
    }
   ],
   "source": [
    "plt.rcParams[\"figure.figsize\"] = (5,3)\n",
    "sns.set_palette(sns.color_palette(high_colors))\n",
    "ax = sns.boxplot(hue='group',x='task',y='net_duration',\\\n",
    "                 data = df_task_time_score, showfliers=False,  width=0.3, linewidth=1)\n",
    "for i,box in enumerate(ax.artists):\n",
    "    box.set_edgecolor('black')\n",
    "    for j in range(5*i,5*(i+1)):\n",
    "         ax.lines[j].set_color('black')\n",
    "sns.despine(offset=10, trim=True)\n",
    "ax.set(xlabel =\"Task\", ylabel = \"Time\")\n",
    "\n",
    "fig = ax.get_figure()\n",
    "fig.savefig(\"../figures/boxplot_net_time.pdf\", bbox_inches='tight') "
   ]
  },
  {
   "cell_type": "markdown",
   "id": "7e8ee1ec",
   "metadata": {},
   "source": [
    "## Calculate Cumulative Accuracy Scores"
   ]
  },
  {
   "cell_type": "code",
   "execution_count": 25,
   "id": "67d1bcc1",
   "metadata": {},
   "outputs": [],
   "source": [
    "df_cum_score = df_scores[['user','group', 'tp_files', 'fp_file', 'tp_selection', 'fp_selection', 'total_file', 'total_selection']].groupby(['user', 'group']).sum().reset_index()"
   ]
  },
  {
   "cell_type": "code",
   "execution_count": 26,
   "id": "72f14cbd",
   "metadata": {},
   "outputs": [],
   "source": [
    "df_cum_score['accuracy_selection'] = round(2 * df_cum_score['tp_selection'] / (df_cum_score['tp_selection'] + df_cum_score['fp_selection'] + df_cum_score['total_selection']),2)\n",
    "df_cum_score['accuracy_file'] = round(2 * df_cum_score['tp_files'] / (df_cum_score['tp_files'] + df_cum_score['fp_file'] + df_cum_score['total_file']),2)"
   ]
  },
  {
   "cell_type": "code",
   "execution_count": 27,
   "id": "1880fd24",
   "metadata": {},
   "outputs": [],
   "source": [
    "df_cum_score['recall_file'] = df_cum_score['tp_files']/(df_cum_score['total_file'])\n",
    "df_cum_score['precision_file'] = df_cum_score['tp_files']/(df_cum_score['tp_files'] + df_cum_score['fp_file'])"
   ]
  },
  {
   "cell_type": "code",
   "execution_count": 28,
   "id": "cc398437",
   "metadata": {
    "scrolled": false
   },
   "outputs": [],
   "source": [
    "df_cum_score['group'] = df_cum_score['group'].apply(lambda l: 0 if l =='control' else 1)"
   ]
  },
  {
   "cell_type": "code",
   "execution_count": 29,
   "id": "e3068c44",
   "metadata": {},
   "outputs": [],
   "source": [
    "df_performance = pd.merge(df_time_cumul[['user', 'group','net_duration']], df_cum_score[['user','group','tp_files', 'fp_file', 'tp_selection', 'fp_selection', 'accuracy_file', 'accuracy_selection']],\\\n",
    "                          left_on=['user', 'group'], right_on=['user', 'group'])"
   ]
  },
  {
   "cell_type": "markdown",
   "id": "2f8959ea",
   "metadata": {},
   "source": [
    "## Include the Corsi Block test results"
   ]
  },
  {
   "cell_type": "code",
   "execution_count": 31,
   "id": "1b76b7d0",
   "metadata": {},
   "outputs": [],
   "source": [
    "df_corsi = pd.read_csv('../data/corsi_block_results.csv')\n",
    "df_performance = pd.merge(df_performance, df_corsi[['user', 'cum_score']], left_on='user', right_on='user', how='left')\n",
    "df_performance.to_csv('../data/performance_overall.csv')"
   ]
  },
  {
   "cell_type": "code",
   "execution_count": 32,
   "id": "73737df3",
   "metadata": {},
   "outputs": [
    {
     "data": {
      "image/png": "[encoded data removed]",
      "text/plain": [
       "<Figure size 504x360 with 1 Axes>"
      ]
     },
     "metadata": {
      "needs_background": "light"
     },
     "output_type": "display_data"
    }
   ],
   "source": [
    "plt.rcParams[\"figure.figsize\"] = (7,5)\n",
    "ax = sns.scatterplot(data=df_performance, x='cum_score', y='net_duration', color='black', marker='X') #, marker='X'\n",
    "ax.set_xlabel(\"Corsi Block Test Score\", fontsize = 15)\n",
    "ax.set_ylabel(\"Time\", fontsize = 15)\n",
    "plt.savefig('../figures/scatterplot_corsi_time.pdf', bbox_inches='tight')\n",
    "plt.show()"
   ]
  },
  {
   "cell_type": "code",
   "execution_count": 33,
   "id": "c400b84e",
   "metadata": {},
   "outputs": [
    {
     "data": {
      "image/png": "[encoded data removed]",
      "text/plain": [
       "<Figure size 504x360 with 1 Axes>"
      ]
     },
     "metadata": {
      "needs_background": "light"
     },
     "output_type": "display_data"
    }
   ],
   "source": [
    "plt.rcParams[\"figure.figsize\"] = (7,5)\n",
    "ax = sns.scatterplot(data=df_performance, x='cum_score', y='accuracy_file', color='black', marker='X') #, hue='group'\n",
    "ax.set_xlabel(\"Corsi Block Test Score\", fontsize = 15)\n",
    "ax.set_ylabel(\"File Accuracy\", fontsize = 15)\n",
    "plt.savefig('../figures/scatterplot_corsi_accuracy_file.pdf', bbox_inches='tight')\n",
    "plt.show()"
   ]
  },
  {
   "cell_type": "code",
   "execution_count": 34,
   "id": "1d9ab885",
   "metadata": {},
   "outputs": [
    {
     "data": {
      "image/png": "[encoded data removed]",
      "text/plain": [
       "<Figure size 504x360 with 1 Axes>"
      ]
     },
     "metadata": {
      "needs_background": "light"
     },
     "output_type": "display_data"
    }
   ],
   "source": [
    "plt.rcParams[\"figure.figsize\"] = (7,5)\n",
    "ax = sns.scatterplot(data=df_performance, x='cum_score', y='accuracy_selection', color='black', marker='X') #, hue='group'\n",
    "ax.set_xlabel(\"Corsi Block Test Score\", fontsize = 15)\n",
    "ax.set_ylabel(\"Annotation Accuracy\", fontsize = 15)\n",
    "plt.savefig('../figures/scatterplot_corsi_accuracy_selection.pdf', bbox_inches='tight')\n",
    "plt.show()"
   ]
  },
  {
   "cell_type": "code",
   "execution_count": null,
   "id": "b7180dda",
   "metadata": {},
   "outputs": [],
   "source": []
  }
 ],
 "metadata": {
  "kernelspec": {
   "display_name": "Python 3",
   "language": "python",
   "name": "python3"
  },
  "language_info": {
   "codemirror_mode": {
    "name": "ipython",
    "version": 3
   },
   "file_extension": ".py",
   "mimetype": "text/x-python",
   "name": "python",
   "nbconvert_exporter": "python",
   "pygments_lexer": "ipython3",
   "version": "3.7.9"
  }
 },
 "nbformat": 4,
 "nbformat_minor": 5
}
