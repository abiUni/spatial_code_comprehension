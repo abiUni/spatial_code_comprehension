{
 "cells": [
  {
   "cell_type": "code",
   "execution_count": 1,
   "id": "a1a01147",
   "metadata": {},
   "outputs": [
    {
     "data": {
      "text/html": [
       "<style>.container { width:100% !important; }</style>"
      ],
      "text/plain": [
       "<IPython.core.display.HTML object>"
      ]
     },
     "metadata": {},
     "output_type": "display_data"
    }
   ],
   "source": [
    "import re\n",
    "import json\n",
    "import pandas as pd\n",
    "import csv\n",
    "import os\n",
    "import numpy as np\n",
    "from collections import Counter\n",
    "import matplotlib.pyplot as plt\n",
    "import seaborn as sns\n",
    "import scipy.stats as stats\n",
    "from scipy.stats import norm \n",
    "from pyvis.network import Network\n",
    "import networkx as nx\n",
    "import plotly.express as px\n",
    "from datetime import datetime,timedelta\n",
    "\n",
    "high_colors = ['#648FFF',  '#DC267F', '#FE6100', '#FFB000', '#785EF0']\n",
    "low_colors = ['#31a1ae', '#507d87', '#d73e41', '#ff5c61', '#ffa6b0']\n",
    "sns.set_palette(sns.color_palette(high_colors))\n",
    "from IPython.display import display, HTML\n",
    "display(HTML(\"<style>.container { width:80% !important; }</style>\"))"
   ]
  },
  {
   "cell_type": "markdown",
   "id": "96548c00",
   "metadata": {},
   "source": [
    "## Corsi-Block test  results"
   ]
  },
  {
   "cell_type": "code",
   "execution_count": 2,
   "id": "5f87149b",
   "metadata": {},
   "outputs": [],
   "source": [
    "df_spatial = pd.read_csv('../data/raw_corsi_results.csv')"
   ]
  },
  {
   "cell_type": "code",
   "execution_count": 3,
   "id": "0022571d",
   "metadata": {},
   "outputs": [],
   "source": [
    "## Calculate the trial score, i.e. the number of trials that were answered correctly\n",
    "df_trials = df_spatial[['extId','trialNo', 'setSize', 'score']].groupby(['extId', 'trialNo', 'setSize'])['score'].sum().reset_index(name='score')\n",
    "df_trials = df_trials[df_trials['setSize'] == df_trials['score']]\n",
    "\n",
    "df_trial_score = df_trials.groupby(['extId'])['trialNo'].count().reset_index(name='correct_trials')\n",
    "df_trial_score['trial_ratio'] = round(df_trial_score['correct_trials']/15,2)"
   ]
  },
  {
   "cell_type": "code",
   "execution_count": 4,
   "id": "24e929b9",
   "metadata": {},
   "outputs": [],
   "source": [
    "df_trial_score_3 = df_trials[df_trials['setSize'] == 3].groupby(['extId'])['trialNo'].count().reset_index(name='correct_trials_3')\n",
    "df_trial_score_4 = df_trials[df_trials['setSize'] == 4].groupby(['extId'])['trialNo'].count().reset_index(name='correct_trials_4')\n",
    "df_trial_score_5 = df_trials[df_trials['setSize'] == 5].groupby(['extId'])['trialNo'].count().reset_index(name='correct_trials_5')\n",
    "df_trial_score_6 = df_trials[df_trials['setSize'] == 6].groupby(['extId'])['trialNo'].count().reset_index(name='correct_trials_6')\n",
    "df_trial_score_7 = df_trials[df_trials['setSize'] == 7].groupby(['extId'])['trialNo'].count().reset_index(name='correct_trials_7')"
   ]
  },
  {
   "cell_type": "code",
   "execution_count": 5,
   "id": "b3b29954",
   "metadata": {},
   "outputs": [],
   "source": [
    "## Calculate the span score, i.e. the maximum length of a correctly answered trial\n",
    "df_max_span = df_trials.groupby(['extId'])['setSize'].max().reset_index(name='span_score')"
   ]
  },
  {
   "cell_type": "code",
   "execution_count": 6,
   "id": "25315b04",
   "metadata": {},
   "outputs": [],
   "source": [
    "## Calculate the cumulative score, i.e. the overall number of correctly answered runs\n",
    "maximum_score = sum(df_spatial['setSize'].unique()* 3)\n",
    "\n",
    "df_cum_score = df_spatial[['extId', 'score', ]].groupby(['extId'])['score'].sum().reset_index(name='cum_score')\n",
    "df_cum_score['cum_ratio'] = round(df_cum_score['cum_score'] / maximum_score,2)"
   ]
  },
  {
   "cell_type": "code",
   "execution_count": 7,
   "id": "87b3a1fa",
   "metadata": {},
   "outputs": [],
   "source": [
    "df_corsi = pd.merge(df_trial_score, df_max_span, left_on='extId', right_on='extId', how='left')\n",
    "df_corsi = pd.merge(df_corsi, df_cum_score, left_on='extId', right_on='extId', how='left')\n",
    "\n",
    "df_corsi = pd.merge(df_corsi, df_trial_score_3, left_on='extId', right_on='extId', how='left')\n",
    "df_corsi = pd.merge(df_corsi, df_trial_score_4, left_on='extId', right_on='extId', how='left')\n",
    "df_corsi = pd.merge(df_corsi, df_trial_score_5, left_on='extId', right_on='extId', how='left')\n",
    "df_corsi = pd.merge(df_corsi, df_trial_score_6, left_on='extId', right_on='extId', how='left')\n",
    "df_corsi = pd.merge(df_corsi, df_trial_score_7, left_on='extId', right_on='extId', how='left')\n",
    "\n",
    "df_corsi.rename(columns={'extId': 'user'}, inplace=True)"
   ]
  },
  {
   "cell_type": "code",
   "execution_count": 8,
   "id": "8adc5437",
   "metadata": {},
   "outputs": [],
   "source": [
    "df_corsi.correct_trials_3.fillna(0, inplace=True)\n",
    "df_corsi.correct_trials_4.fillna(0, inplace=True)\n",
    "df_corsi.correct_trials_5.fillna(0, inplace=True)\n",
    "df_corsi.correct_trials_6.fillna(0, inplace=True)\n",
    "df_corsi.correct_trials_7.fillna(0, inplace=True)"
   ]
  },
  {
   "cell_type": "code",
   "execution_count": 9,
   "id": "e1c88715",
   "metadata": {},
   "outputs": [],
   "source": [
    "df_corsi.to_csv('../data/corsi_block_results.csv')"
   ]
  },
  {
   "cell_type": "code",
   "execution_count": 10,
   "id": "1881a174",
   "metadata": {},
   "outputs": [
    {
     "data": {
      "image/png": "[encoded data removed]",
      "text/plain": [
       "<Figure size 360x288 with 1 Axes>"
      ]
     },
     "metadata": {
      "needs_background": "light"
     },
     "output_type": "display_data"
    }
   ],
   "source": [
    "## Create figure for the number of correct iterations per sequence size\n",
    "plt.rcParams[\"figure.figsize\"] = (5,4)\n",
    "\n",
    "df_melt = df_corsi[['correct_trials_3', 'correct_trials_4', 'correct_trials_5', 'correct_trials_6', 'correct_trials_7', 'user']].melt(id_vars=['user'], value_vars=['correct_trials_3', 'correct_trials_4', 'correct_trials_5', 'correct_trials_6', 'correct_trials_7'])\n",
    "\n",
    "df_melt['variable'] = df_melt['variable'].apply(lambda l: l.split('_')[-1:][0])\n",
    "df_melt.rename(columns={'variable':'Sequence Length','value':'Correct Iterations'}, inplace=True)\n",
    "\n",
    "s = df_melt.groupby('Sequence Length')['Correct Iterations'].value_counts()\n",
    "ax = s.unstack().plot.bar(stacked=True)\n",
    "ax.set(yticks=[1, 2, 3, 4, 5, 6, 7, 8, 9, 10, 11, 12, 13, 14, 15, 16, 17, 18, 19])\n",
    "ax.set_ylabel('count', fontsize = 15)\n",
    "ax.set_xlabel('sequence length', fontsize = 15)\n",
    "plt.xticks(rotation = 0)\n",
    "plt.legend(bbox_to_anchor=(1, 1.15), loc='upper right', borderaxespad=0, title='Correct Iterations', ncol=4)\n",
    "\n",
    "fig = ax.get_figure()\n",
    "fig.savefig(\"../figures/corsi_correct_trials.pdf\", bbox_inches='tight') "
   ]
  },
  {
   "cell_type": "code",
   "execution_count": 11,
   "id": "f3b970a4",
   "metadata": {},
   "outputs": [],
   "source": [
    "df_corsi = pd.merge(df_corsi, df_spatial[['extId', 'group']].drop_duplicates(), left_on='user', right_on='extId', how='left')"
   ]
  },
  {
   "cell_type": "code",
   "execution_count": 12,
   "id": "2cecb7e4",
   "metadata": {},
   "outputs": [],
   "source": [
    "def recolor_boxplt(ax, edge_color, face_color, line_color):\n",
    "    for i,box in enumerate(ax.artists):\n",
    "        box.set_edgecolor(edge_color)\n",
    "        box.set_facecolor(face_color)\n",
    "        # iterate over whiskers and median lines\n",
    "        for j in range(5*i,5*(i+1)):\n",
    "             ax.lines[j].set_color(line_color)\n",
    "    "
   ]
  },
  {
   "cell_type": "code",
   "execution_count": 13,
   "id": "d2f4819d",
   "metadata": {},
   "outputs": [
    {
     "data": {
      "image/png": "[encoded data removed]",
      "text/plain": [
       "<Figure size 288x216 with 3 Axes>"
      ]
     },
     "metadata": {
      "needs_background": "light"
     },
     "output_type": "display_data"
    }
   ],
   "source": [
    "# Crate box plots for cumulative Corsi Block test score\n",
    "plt.rcParams[\"figure.figsize\"] = (4,3)\n",
    "fig, axes = plt.subplots(1, 3, sharey=True)\n",
    "sns.boxplot(ax=axes[0], data=df_corsi[df_corsi['group']=='control'][['cum_score']],  width=0.2, linewidth=1, color='white' )\n",
    "sns.boxplot(ax=axes[1], data=df_corsi[df_corsi['group'] == 'canvas'][['cum_score']],  width=0.2, linewidth=1, color='white')\n",
    "sns.boxplot(ax=axes[2], data=df_corsi[['cum_score']],  width=0.2, linewidth=1, color='white')\n",
    "\n",
    "recolor_boxplt(axes[0], 'black', 'white', 'black')\n",
    "recolor_boxplt(axes[1], 'black', 'white', 'black')\n",
    "recolor_boxplt(axes[2], 'black', 'white', 'black')\n",
    "\n",
    "            \n",
    "sns.despine(offset=10, trim=True)\n",
    "axes[0].set_xticklabels(['control'], fontsize = 15)\n",
    "axes[1].set_xticklabels(['canvas'], fontsize = 15)\n",
    "axes[2].set_xticklabels(['overall'], fontsize = 15)\n",
    "axes[0].set_ylabel('score', fontsize = 15)\n",
    "\n",
    "\n",
    "# fig = ax.get_figure()\n",
    "fig.savefig(\"../figures/corsi_score_boxplot_per_group.pdf\", bbox_inches='tight') "
   ]
  },
  {
   "cell_type": "code",
   "execution_count": null,
   "id": "7ab07495",
   "metadata": {},
   "outputs": [],
   "source": []
  }
 ],
 "metadata": {
  "kernelspec": {
   "display_name": "Python 3",
   "language": "python",
   "name": "python3"
  },
  "language_info": {
   "codemirror_mode": {
    "name": "ipython",
    "version": 3
   },
   "file_extension": ".py",
   "mimetype": "text/x-python",
   "name": "python",
   "nbconvert_exporter": "python",
   "pygments_lexer": "ipython3",
   "version": "3.7.9"
  }
 },
 "nbformat": 4,
 "nbformat_minor": 5
}
